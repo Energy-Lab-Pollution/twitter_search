{
 "cells": [
  {
   "cell_type": "markdown",
   "metadata": {},
   "source": [
    "# Twitter Lists - Filtering"
   ]
  },
  {
   "cell_type": "markdown",
   "metadata": {},
   "source": [
    "### Global Packages"
   ]
  },
  {
   "cell_type": "code",
   "execution_count": 39,
   "metadata": {},
   "outputs": [],
   "source": [
    "import pandas as pd\n",
    "\n",
    "# Local imports\n",
    "from filter_lists import ListReader, ListFilter\n"
   ]
  },
  {
   "cell_type": "markdown",
   "metadata": {},
   "source": [
    "#### Parameters and Constants"
   ]
  },
  {
   "cell_type": "code",
   "execution_count": 54,
   "metadata": {},
   "outputs": [],
   "source": [
    "PATH = \"C:/Users/fdmol/Desktop/Energy-Lab/twitter_search/twitter_search/data/raw_data\"\n",
    "COLS_TO_KEEP = [\"user_id\", \"list_id\", \"name\", \"description\"]\n",
    "\n",
    "LISTS_KEYWORDS = [\"air\", \"pollution\", \"earth\", \"climate\", \"smog\"]"
   ]
  },
  {
   "cell_type": "markdown",
   "metadata": {},
   "source": [
    "#### Functions and Classes"
   ]
  },
  {
   "cell_type": "markdown",
   "metadata": {},
   "source": [
    "#### Pipeline"
   ]
  },
  {
   "cell_type": "code",
   "execution_count": 82,
   "metadata": {},
   "outputs": [],
   "source": [
    "print(\"Reading JSON to create Lists dataframe...\")\n",
    "print(f\"Reading {PATH}\")\n",
    "list_reader = ListReader()\n",
    "lists_df = list_reader.create_df()\n",
    "\n",
    "print(\"Filtering dataframe for relevant lists\")\n",
    "list_filter = ListFilter(lists_df)\n",
    "lists_df[\"relevant\"] = lists_df.apply(list_filter.is_relevant, axis=1)\n",
    "relevant_lists = lists_df.loc[lists_df[\"relevant\"].isin([True]), :]\n",
    "print(\"Done!\")\n"
   ]
  },
  {
   "cell_type": "code",
   "execution_count": 84,
   "metadata": {},
   "outputs": [
    {
     "data": {
      "text/html": [
       "<div>\n",
       "<style scoped>\n",
       "    .dataframe tbody tr th:only-of-type {\n",
       "        vertical-align: middle;\n",
       "    }\n",
       "\n",
       "    .dataframe tbody tr th {\n",
       "        vertical-align: top;\n",
       "    }\n",
       "\n",
       "    .dataframe thead th {\n",
       "        text-align: right;\n",
       "    }\n",
       "</style>\n",
       "<table border=\"1\" class=\"dataframe\">\n",
       "  <thead>\n",
       "    <tr style=\"text-align: right;\">\n",
       "      <th></th>\n",
       "      <th>user_id</th>\n",
       "      <th>list_id</th>\n",
       "      <th>name</th>\n",
       "      <th>description</th>\n",
       "      <th>relevant</th>\n",
       "    </tr>\n",
       "  </thead>\n",
       "  <tbody>\n",
       "    <tr>\n",
       "      <th>1</th>\n",
       "      <td>1410225032354172932</td>\n",
       "      <td>1732746835570430409</td>\n",
       "      <td>No to Air pollution</td>\n",
       "      <td>Stop Air pollution Stop Toxic Gases</td>\n",
       "      <td>True</td>\n",
       "    </tr>\n",
       "    <tr>\n",
       "      <th>10</th>\n",
       "      <td>1410225032354172932</td>\n",
       "      <td>1518253847445217280</td>\n",
       "      <td>Pollution</td>\n",
       "      <td>Accounts/Posts related to land, air &amp; water po...</td>\n",
       "      <td>True</td>\n",
       "    </tr>\n",
       "    <tr>\n",
       "      <th>14</th>\n",
       "      <td>1410225032354172932</td>\n",
       "      <td>194782213</td>\n",
       "      <td>EARTH 🌍 PROTECTING GROUP</td>\n",
       "      <td>TO PROTECT EARTH 🌍._ JAI SRI RAM.</td>\n",
       "      <td>True</td>\n",
       "    </tr>\n",
       "    <tr>\n",
       "      <th>113</th>\n",
       "      <td>1247376074272641025</td>\n",
       "      <td>1765717997334024210</td>\n",
       "      <td>Air quality</td>\n",
       "      <td></td>\n",
       "      <td>True</td>\n",
       "    </tr>\n",
       "    <tr>\n",
       "      <th>114</th>\n",
       "      <td>1247376074272641025</td>\n",
       "      <td>1743504404563853614</td>\n",
       "      <td>Air pollution Researcher</td>\n",
       "      <td>People who are actively working to solve the a...</td>\n",
       "      <td>True</td>\n",
       "    </tr>\n",
       "    <tr>\n",
       "      <th>188</th>\n",
       "      <td>4429482316</td>\n",
       "      <td>766501326650048512</td>\n",
       "      <td>Smokey's friends</td>\n",
       "      <td>List for interesting people in the air quality...</td>\n",
       "      <td>True</td>\n",
       "    </tr>\n",
       "    <tr>\n",
       "      <th>192</th>\n",
       "      <td>4429482316</td>\n",
       "      <td>745346183120420865</td>\n",
       "      <td>Air Quality Experts</td>\n",
       "      <td></td>\n",
       "      <td>True</td>\n",
       "    </tr>\n",
       "    <tr>\n",
       "      <th>193</th>\n",
       "      <td>4429482316</td>\n",
       "      <td>710779808536367104</td>\n",
       "      <td>smog 2016</td>\n",
       "      <td></td>\n",
       "      <td>True</td>\n",
       "    </tr>\n",
       "    <tr>\n",
       "      <th>196</th>\n",
       "      <td>4429482316</td>\n",
       "      <td>718131431600484352</td>\n",
       "      <td>Air People</td>\n",
       "      <td></td>\n",
       "      <td>True</td>\n",
       "    </tr>\n",
       "  </tbody>\n",
       "</table>\n",
       "</div>"
      ],
      "text/plain": [
       "                 user_id              list_id                      name   \n",
       "1    1410225032354172932  1732746835570430409       No to Air pollution  \\\n",
       "10   1410225032354172932  1518253847445217280                 Pollution   \n",
       "14   1410225032354172932            194782213  EARTH 🌍 PROTECTING GROUP   \n",
       "113  1247376074272641025  1765717997334024210               Air quality   \n",
       "114  1247376074272641025  1743504404563853614  Air pollution Researcher   \n",
       "188           4429482316   766501326650048512          Smokey's friends   \n",
       "192           4429482316   745346183120420865       Air Quality Experts   \n",
       "193           4429482316   710779808536367104                 smog 2016   \n",
       "196           4429482316   718131431600484352                Air People   \n",
       "\n",
       "                                           description  relevant  \n",
       "1                  Stop Air pollution Stop Toxic Gases      True  \n",
       "10   Accounts/Posts related to land, air & water po...      True  \n",
       "14                   TO PROTECT EARTH 🌍._ JAI SRI RAM.      True  \n",
       "113                                                         True  \n",
       "114  People who are actively working to solve the a...      True  \n",
       "188  List for interesting people in the air quality...      True  \n",
       "192                                                         True  \n",
       "193                                                         True  \n",
       "196                                                         True  "
      ]
     },
     "execution_count": 84,
     "metadata": {},
     "output_type": "execute_result"
    }
   ],
   "source": [
    "relevant_lists"
   ]
  }
 ],
 "metadata": {
  "kernelspec": {
   "display_name": "Python 3",
   "language": "python",
   "name": "python3"
  },
  "language_info": {
   "codemirror_mode": {
    "name": "ipython",
    "version": 3
   },
   "file_extension": ".py",
   "mimetype": "text/x-python",
   "name": "python",
   "nbconvert_exporter": "python",
   "pygments_lexer": "ipython3",
   "version": "3.11.3"
  }
 },
 "nbformat": 4,
 "nbformat_minor": 2
}
