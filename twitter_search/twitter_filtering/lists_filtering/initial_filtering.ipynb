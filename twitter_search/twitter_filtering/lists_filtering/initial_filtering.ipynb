{
 "cells": [
  {
   "cell_type": "markdown",
   "metadata": {},
   "source": [
    "# Twitter Lists - Filtering"
   ]
  },
  {
   "cell_type": "markdown",
   "metadata": {},
   "source": [
    "### Global Packages"
   ]
  },
  {
   "cell_type": "code",
   "execution_count": 39,
   "metadata": {},
   "outputs": [],
   "source": [
    "import json\n",
    "import pandas as pd"
   ]
  },
  {
   "cell_type": "markdown",
   "metadata": {},
   "source": [
    "#### Parameters and Constants"
   ]
  },
  {
   "cell_type": "code",
   "execution_count": 54,
   "metadata": {},
   "outputs": [],
   "source": [
    "PATH = \"C:/Users/fdmol/Desktop/Energy-Lab/twitter_search/twitter_search/data/raw_data\"\n",
    "COLS_TO_KEEP = [\"user_id\", \"list_id\", \"name\", \"description\"]\n",
    "\n",
    "LISTS_KEYWORDS = [\"air\", \"pollution\", \"earth\", \"climate\", \"smog\"]\n"
   ]
  },
  {
   "cell_type": "markdown",
   "metadata": {},
   "source": [
    "#### Functions and Classes"
   ]
  },
  {
   "cell_type": "code",
   "execution_count": 47,
   "metadata": {},
   "outputs": [],
   "source": [
    "def read_json(file_path):\n",
    "    \"\"\"\n",
    "    Reads JSON file and returns a dictionary\n",
    "\n",
    "    Args:\n",
    "        file_path (str): Path to the JSON file\n",
    "    Returns:\n",
    "        data (dict): Dictionary with the JSON data\n",
    "    \"\"\"\n",
    "    with open(file_path, \"r\") as file:\n",
    "        data = json.load(file)\n",
    "    return data\n",
    "\n",
    "\n",
    "def create_df(twitter_lists):\n",
    "    \"\"\"\n",
    "    Creates a DataFrame from the JSON data\n",
    "\n",
    "    Args:\n",
    "        lists (list): List of dictionaries with the JSON data\n",
    "    Returns:\n",
    "        df (pd.DataFrame): DataFrame with the JSON data\n",
    "    \"\"\"\n",
    "\n",
    "    lists_df = pd.DataFrame([])\n",
    "\n",
    "    for twitter_list in twitter_lists:\n",
    "        if not twitter_list:\n",
    "            # remove entry if empty\n",
    "            continue\n",
    "\n",
    "        else:\n",
    "            # create a dataframe from the list\n",
    "            list_df = pd.DataFrame(twitter_list)\n",
    "            lists_df = pd.concat([lists_df, list_df], ignore_index=True)\n",
    "\n",
    "    lists_df = lists_df.loc[:, COLS_TO_KEEP].copy()\n",
    "\n",
    "    return lists_df"
   ]
  },
  {
   "cell_type": "code",
   "execution_count": 81,
   "metadata": {},
   "outputs": [],
   "source": [
    "class ListFilter:\n",
    "    \"\"\"\n",
    "    Class to filter lists based on keywords\n",
    "    \"\"\"\n",
    "\n",
    "    def __init__(self, df) -> None:\n",
    "        self.df = df\n",
    "\n",
    "    @staticmethod\n",
    "    def clean_text(text):\n",
    "        \"\"\"\n",
    "        Cleans text from special characters\n",
    "\n",
    "        Args:\n",
    "            text (str): Text to be cleaned\n",
    "        Returns:\n",
    "            text (str): Cleaned text\n",
    "        \"\"\"\n",
    "        # remove special characters\n",
    "        text = text.lower()\n",
    "\n",
    "        return text\n",
    "\n",
    "    @staticmethod\n",
    "    def filter_text(text):\n",
    "        \"\"\"\n",
    "        Determines if the text contains a keyword\n",
    "        of interest\n",
    "        \"\"\"\n",
    "        text = text.lower()\n",
    "        text_list = text.strip().split()\n",
    "\n",
    "        for keyword in LISTS_KEYWORDS:\n",
    "            if keyword in text_list:\n",
    "                return True\n",
    "\n",
    "        return False\n",
    "\n",
    "    def is_relevant(self, row):\n",
    "        \"\"\"\n",
    "        Creates an additional column to determine if the\n",
    "        list is relevant or not\n",
    "        \"\"\"\n",
    "\n",
    "        relevant_name = self.filter_text(row[\"name\"])\n",
    "\n",
    "        # If name is not relevant, check description\n",
    "        if not relevant_name:\n",
    "            # If description is not relevant, return False\n",
    "            relevant_description = self.filter_text(row[\"description\"])\n",
    "            return relevant_description\n",
    "\n",
    "        # If name is relevant, return True\n",
    "        else:\n",
    "            return relevant_name"
   ]
  },
  {
   "cell_type": "markdown",
   "metadata": {},
   "source": [
    "#### Pipeline"
   ]
  },
  {
   "cell_type": "code",
   "execution_count": 82,
   "metadata": {},
   "outputs": [],
   "source": [
    "twitter_lists = read_json(f\"{PATH}/Mumbai_lists.json\")\n",
    "lists_df = create_df(twitter_lists)\n",
    "lists_df.drop_duplicates(subset=[\"list_id\"], inplace=True)"
   ]
  },
  {
   "cell_type": "code",
   "execution_count": 83,
   "metadata": {},
   "outputs": [],
   "source": [
    "list_filter = ListFilter(lists_df)\n",
    "lists_df[\"relevant\"] = lists_df.apply(list_filter.is_relevant, axis=1)\n",
    "relevant_lists = lists_df.loc[lists_df[\"relevant\"] == True, :]"
   ]
  },
  {
   "cell_type": "code",
   "execution_count": 84,
   "metadata": {},
   "outputs": [
    {
     "data": {
      "text/html": [
       "<div>\n",
       "<style scoped>\n",
       "    .dataframe tbody tr th:only-of-type {\n",
       "        vertical-align: middle;\n",
       "    }\n",
       "\n",
       "    .dataframe tbody tr th {\n",
       "        vertical-align: top;\n",
       "    }\n",
       "\n",
       "    .dataframe thead th {\n",
       "        text-align: right;\n",
       "    }\n",
       "</style>\n",
       "<table border=\"1\" class=\"dataframe\">\n",
       "  <thead>\n",
       "    <tr style=\"text-align: right;\">\n",
       "      <th></th>\n",
       "      <th>user_id</th>\n",
       "      <th>list_id</th>\n",
       "      <th>name</th>\n",
       "      <th>description</th>\n",
       "      <th>relevant</th>\n",
       "    </tr>\n",
       "  </thead>\n",
       "  <tbody>\n",
       "    <tr>\n",
       "      <th>1</th>\n",
       "      <td>1410225032354172932</td>\n",
       "      <td>1732746835570430409</td>\n",
       "      <td>No to Air pollution</td>\n",
       "      <td>Stop Air pollution Stop Toxic Gases</td>\n",
       "      <td>True</td>\n",
       "    </tr>\n",
       "    <tr>\n",
       "      <th>10</th>\n",
       "      <td>1410225032354172932</td>\n",
       "      <td>1518253847445217280</td>\n",
       "      <td>Pollution</td>\n",
       "      <td>Accounts/Posts related to land, air &amp; water po...</td>\n",
       "      <td>True</td>\n",
       "    </tr>\n",
       "    <tr>\n",
       "      <th>14</th>\n",
       "      <td>1410225032354172932</td>\n",
       "      <td>194782213</td>\n",
       "      <td>EARTH 🌍 PROTECTING GROUP</td>\n",
       "      <td>TO PROTECT EARTH 🌍._ JAI SRI RAM.</td>\n",
       "      <td>True</td>\n",
       "    </tr>\n",
       "    <tr>\n",
       "      <th>113</th>\n",
       "      <td>1247376074272641025</td>\n",
       "      <td>1765717997334024210</td>\n",
       "      <td>Air quality</td>\n",
       "      <td></td>\n",
       "      <td>True</td>\n",
       "    </tr>\n",
       "    <tr>\n",
       "      <th>114</th>\n",
       "      <td>1247376074272641025</td>\n",
       "      <td>1743504404563853614</td>\n",
       "      <td>Air pollution Researcher</td>\n",
       "      <td>People who are actively working to solve the a...</td>\n",
       "      <td>True</td>\n",
       "    </tr>\n",
       "    <tr>\n",
       "      <th>188</th>\n",
       "      <td>4429482316</td>\n",
       "      <td>766501326650048512</td>\n",
       "      <td>Smokey's friends</td>\n",
       "      <td>List for interesting people in the air quality...</td>\n",
       "      <td>True</td>\n",
       "    </tr>\n",
       "    <tr>\n",
       "      <th>192</th>\n",
       "      <td>4429482316</td>\n",
       "      <td>745346183120420865</td>\n",
       "      <td>Air Quality Experts</td>\n",
       "      <td></td>\n",
       "      <td>True</td>\n",
       "    </tr>\n",
       "    <tr>\n",
       "      <th>193</th>\n",
       "      <td>4429482316</td>\n",
       "      <td>710779808536367104</td>\n",
       "      <td>smog 2016</td>\n",
       "      <td></td>\n",
       "      <td>True</td>\n",
       "    </tr>\n",
       "    <tr>\n",
       "      <th>196</th>\n",
       "      <td>4429482316</td>\n",
       "      <td>718131431600484352</td>\n",
       "      <td>Air People</td>\n",
       "      <td></td>\n",
       "      <td>True</td>\n",
       "    </tr>\n",
       "  </tbody>\n",
       "</table>\n",
       "</div>"
      ],
      "text/plain": [
       "                 user_id              list_id                      name   \n",
       "1    1410225032354172932  1732746835570430409       No to Air pollution  \\\n",
       "10   1410225032354172932  1518253847445217280                 Pollution   \n",
       "14   1410225032354172932            194782213  EARTH 🌍 PROTECTING GROUP   \n",
       "113  1247376074272641025  1765717997334024210               Air quality   \n",
       "114  1247376074272641025  1743504404563853614  Air pollution Researcher   \n",
       "188           4429482316   766501326650048512          Smokey's friends   \n",
       "192           4429482316   745346183120420865       Air Quality Experts   \n",
       "193           4429482316   710779808536367104                 smog 2016   \n",
       "196           4429482316   718131431600484352                Air People   \n",
       "\n",
       "                                           description  relevant  \n",
       "1                  Stop Air pollution Stop Toxic Gases      True  \n",
       "10   Accounts/Posts related to land, air & water po...      True  \n",
       "14                   TO PROTECT EARTH 🌍._ JAI SRI RAM.      True  \n",
       "113                                                         True  \n",
       "114  People who are actively working to solve the a...      True  \n",
       "188  List for interesting people in the air quality...      True  \n",
       "192                                                         True  \n",
       "193                                                         True  \n",
       "196                                                         True  "
      ]
     },
     "execution_count": 84,
     "metadata": {},
     "output_type": "execute_result"
    }
   ],
   "source": [
    "relevant_lists"
   ]
  }
 ],
 "metadata": {
  "kernelspec": {
   "display_name": "Python 3",
   "language": "python",
   "name": "python3"
  },
  "language_info": {
   "codemirror_mode": {
    "name": "ipython",
    "version": 3
   },
   "file_extension": ".py",
   "mimetype": "text/x-python",
   "name": "python",
   "nbconvert_exporter": "python",
   "pygments_lexer": "ipython3",
   "version": "3.11.3"
  }
 },
 "nbformat": 4,
 "nbformat_minor": 2
}
